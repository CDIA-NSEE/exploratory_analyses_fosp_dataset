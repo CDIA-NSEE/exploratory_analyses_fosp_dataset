{
 "cells": [
  {
   "cell_type": "code",
   "execution_count": 4,
   "id": "1b0de4bd-38fa-4549-a2b0-6cdb6ae9505e",
   "metadata": {},
   "outputs": [],
   "source": [
    "import polars as ps\n",
    "import matplotlib.pyplot as plt"
   ]
  },
  {
   "cell_type": "code",
   "execution_count": 5,
   "id": "dae09609-78cf-44fa-9249-e5c1c4b0e9ac",
   "metadata": {},
   "outputs": [
    {
     "data": {
      "text/html": [
       "<div><style>\n",
       ".dataframe > thead > tr,\n",
       ".dataframe > tbody > tr {\n",
       "  text-align: right;\n",
       "  white-space: pre-wrap;\n",
       "}\n",
       "</style>\n",
       "<small>shape: (5, 100)</small><table border=\"1\" class=\"dataframe\"><thead><tr><th>ESCOLARI</th><th>IDADE</th><th>SEXO</th><th>UFNASC</th><th>UFRESID</th><th>IBGE</th><th>CIDADE</th><th>CATEATEND</th><th>DTCONSULT</th><th>CLINICA</th><th>DIAGPREV</th><th>DTDIAG</th><th>BASEDIAG</th><th>TOPO</th><th>TOPOGRUP</th><th>DESCTOPO</th><th>MORFO</th><th>DESCMORFO</th><th>EC</th><th>ECGRUP</th><th>T</th><th>N</th><th>M</th><th>PT</th><th>PN</th><th>PM</th><th>S</th><th>G</th><th>LOCALTNM</th><th>IDMITOTIC</th><th>PSA</th><th>GLEASON</th><th>OUTRACLA</th><th>META01</th><th>META02</th><th>META03</th><th>META04</th><th>&hellip;</th><th>HORMOAPOS</th><th>TMOAPOS</th><th>IMUNOAPOS</th><th>OUTROAPOS</th><th>DTULTINFO</th><th>ULTINFO</th><th>CONSDIAG</th><th>TRATCONS</th><th>DIAGTRAT</th><th>ANODIAG</th><th>CICI</th><th>CICIGRUP</th><th>CICISUBGRU</th><th>FAIXAETAR</th><th>LATERALI</th><th>INSTORIG</th><th>DRS</th><th>RRAS</th><th>PERDASEG</th><th>ERRO</th><th>DTRECIDIVA</th><th>RECNENHUM</th><th>RECLOCAL</th><th>RECREGIO</th><th>RECDIST</th><th>REC01</th><th>REC02</th><th>REC03</th><th>REC04</th><th>IBGEATEN</th><th>CIDO</th><th>DSCCIDO</th><th>HABILIT</th><th>HABIT11</th><th>HABILIT1</th><th>HABILIT2</th><th>CIDADEH</th></tr><tr><td>i64</td><td>i64</td><td>i64</td><td>str</td><td>str</td><td>i64</td><td>str</td><td>i64</td><td>str</td><td>i64</td><td>i64</td><td>str</td><td>i64</td><td>str</td><td>str</td><td>str</td><td>i64</td><td>str</td><td>str</td><td>str</td><td>str</td><td>str</td><td>str</td><td>str</td><td>str</td><td>str</td><td>i64</td><td>i64</td><td>i64</td><td>i64</td><td>i64</td><td>i64</td><td>str</td><td>str</td><td>str</td><td>str</td><td>str</td><td>&hellip;</td><td>i64</td><td>i64</td><td>i64</td><td>i64</td><td>str</td><td>i64</td><td>i64</td><td>f64</td><td>f64</td><td>i64</td><td>str</td><td>str</td><td>str</td><td>str</td><td>i64</td><td>str</td><td>str</td><td>i64</td><td>i64</td><td>i64</td><td>str</td><td>i64</td><td>i64</td><td>i64</td><td>i64</td><td>str</td><td>str</td><td>str</td><td>str</td><td>i64</td><td>i64</td><td>str</td><td>i64</td><td>str</td><td>i64</td><td>i64</td><td>str</td></tr></thead><tbody><tr><td>4</td><td>17</td><td>2</td><td>&quot;SP&quot;</td><td>&quot;SP&quot;</td><td>3538709</td><td>&quot;PIRACICABA&quot;</td><td>9</td><td>&quot;2011-06-21&quot;</td><td>24</td><td>2</td><td>&quot;2011-06-09&quot;</td><td>3</td><td>&quot;C499&quot;</td><td>&quot;C49&quot;</td><td>&quot;TECIDO CONJUNT…</td><td>80003</td><td>&quot;NEOPLASIA MALI…</td><td>&quot;Y&quot;</td><td>&quot;Y&quot;</td><td>&quot;Y&quot;</td><td>&quot;Y&quot;</td><td>&quot;Y&quot;</td><td>&quot;Y&quot;</td><td>&quot;Y&quot;</td><td>&quot;Y&quot;</td><td>8</td><td>8</td><td>8</td><td>8</td><td>8</td><td>8</td><td>null</td><td>null</td><td>null</td><td>null</td><td>null</td><td>&hellip;</td><td>0</td><td>0</td><td>0</td><td>0</td><td>&quot;2018-08-24&quot;</td><td>2</td><td>12</td><td>254.0</td><td>266.0</td><td>2011</td><td>&quot;XIIB&quot;</td><td>&quot;XII  OUTRAS NE…</td><td>&quot;B  OUTROS TUMO…</td><td>&quot;10-19&quot;</td><td>8</td><td>null</td><td>&quot;DRS 10  PIRACI…</td><td>14</td><td>1</td><td>0</td><td>null</td><td>1</td><td>0</td><td>0</td><td>0</td><td>null</td><td>null</td><td>null</td><td>null</td><td>3538709</td><td>80003</td><td>&quot;NEOPLASIA MALI…</td><td>9</td><td>&quot;UNACON com Ser…</td><td>1</td><td>1</td><td>&quot;Piracicaba&quot;</td></tr><tr><td>9</td><td>1</td><td>2</td><td>&quot;SP&quot;</td><td>&quot;SP&quot;</td><td>3535507</td><td>&quot;PARAGUACU PAUL…</td><td>9</td><td>&quot;2005-02-25&quot;</td><td>3</td><td>1</td><td>&quot;2005-02-25&quot;</td><td>3</td><td>&quot;C310&quot;</td><td>&quot;C31&quot;</td><td>&quot;SEIO MAXILAR&quot;</td><td>80003</td><td>&quot;NEOPLASIA MALI…</td><td>&quot;Y&quot;</td><td>&quot;Y&quot;</td><td>&quot;Y&quot;</td><td>&quot;Y&quot;</td><td>&quot;Y&quot;</td><td>&quot;Y&quot;</td><td>&quot;Y&quot;</td><td>&quot;Y&quot;</td><td>8</td><td>8</td><td>8</td><td>8</td><td>8</td><td>8</td><td>null</td><td>&quot;C22&quot;</td><td>null</td><td>null</td><td>null</td><td>&hellip;</td><td>0</td><td>0</td><td>0</td><td>0</td><td>&quot;2006-08-05&quot;</td><td>4</td><td>0</td><td>0.0</td><td>0.0</td><td>2005</td><td>&quot;XIIB&quot;</td><td>&quot;XII  OUTRAS NE…</td><td>&quot;B  OUTROS TUMO…</td><td>&quot;00-09&quot;</td><td>8</td><td>null</td><td>&quot;DRS 09  MARÍLI…</td><td>10</td><td>0</td><td>0</td><td>null</td><td>1</td><td>0</td><td>0</td><td>0</td><td>null</td><td>null</td><td>null</td><td>null</td><td>3506003</td><td>80003</td><td>&quot;NEOPLASIA MALI…</td><td>14</td><td>&quot;Inativo&quot;</td><td>6</td><td>5</td><td>&quot;Bauru&quot;</td></tr><tr><td>9</td><td>18</td><td>2</td><td>&quot;SP&quot;</td><td>&quot;SP&quot;</td><td>3548500</td><td>&quot;SANTOS&quot;</td><td>9</td><td>&quot;2012-05-14&quot;</td><td>24</td><td>1</td><td>&quot;2012-05-16&quot;</td><td>3</td><td>&quot;C494&quot;</td><td>&quot;C49&quot;</td><td>&quot;TEC CONJUNTIVO…</td><td>80003</td><td>&quot;NEOPLASIA MALI…</td><td>&quot;Y&quot;</td><td>&quot;Y&quot;</td><td>&quot;Y&quot;</td><td>&quot;Y&quot;</td><td>&quot;Y&quot;</td><td>null</td><td>null</td><td>null</td><td>8</td><td>8</td><td>8</td><td>8</td><td>8</td><td>8</td><td>null</td><td>null</td><td>null</td><td>null</td><td>null</td><td>&hellip;</td><td>0</td><td>0</td><td>0</td><td>0</td><td>&quot;2023-11-14&quot;</td><td>2</td><td>2</td><td>2.0</td><td>0.0</td><td>2012</td><td>&quot;XIIB&quot;</td><td>&quot;XII  OUTRAS NE…</td><td>&quot;B  OUTROS TUMO…</td><td>&quot;10-19&quot;</td><td>1</td><td>null</td><td>&quot;DRS 04  SANTOS…</td><td>7</td><td>0</td><td>0</td><td>null</td><td>1</td><td>0</td><td>0</td><td>0</td><td>null</td><td>null</td><td>null</td><td>null</td><td>3548500</td><td>80003</td><td>&quot;NEOPLASIA MALI…</td><td>2</td><td>&quot;UNACON com Ser…</td><td>1</td><td>1</td><td>&quot;Santos&quot;</td></tr><tr><td>5</td><td>19</td><td>1</td><td>&quot;RR&quot;</td><td>&quot;SP&quot;</td><td>3548500</td><td>&quot;SANTOS&quot;</td><td>1</td><td>&quot;2017-08-10&quot;</td><td>31</td><td>2</td><td>&quot;2016-12-03&quot;</td><td>3</td><td>&quot;C444&quot;</td><td>&quot;C44&quot;</td><td>&quot;PELE DO COURO …</td><td>80003</td><td>&quot;NEOPLASIA MALI…</td><td>&quot;Y&quot;</td><td>&quot;Y&quot;</td><td>&quot;Y&quot;</td><td>&quot;Y&quot;</td><td>&quot;Y&quot;</td><td>&quot;Y&quot;</td><td>&quot;Y&quot;</td><td>&quot;Y&quot;</td><td>8</td><td>8</td><td>8</td><td>8</td><td>8</td><td>8</td><td>&quot;T4 N0 M0&quot;</td><td>null</td><td>null</td><td>null</td><td>null</td><td>&hellip;</td><td>0</td><td>0</td><td>0</td><td>0</td><td>&quot;2021-09-09&quot;</td><td>2</td><td>250</td><td>20.0</td><td>270.0</td><td>2016</td><td>&quot;XIIB&quot;</td><td>&quot;XII  OUTRAS NE…</td><td>&quot;B  OUTROS TUMO…</td><td>&quot;10-19&quot;</td><td>8</td><td>null</td><td>&quot;DRS 04  SANTOS…</td><td>7</td><td>0</td><td>0</td><td>null</td><td>1</td><td>0</td><td>0</td><td>0</td><td>null</td><td>null</td><td>null</td><td>null</td><td>3548500</td><td>80003</td><td>&quot;NEOPLASIA MALI…</td><td>2</td><td>&quot;UNACON com Ser…</td><td>1</td><td>1</td><td>&quot;Santos&quot;</td></tr><tr><td>4</td><td>16</td><td>1</td><td>&quot;SP&quot;</td><td>&quot;SP&quot;</td><td>3548500</td><td>&quot;SANTOS&quot;</td><td>2</td><td>&quot;2020-04-17&quot;</td><td>31</td><td>2</td><td>&quot;2020-04-17&quot;</td><td>3</td><td>&quot;C310&quot;</td><td>&quot;C31&quot;</td><td>&quot;SEIO MAXILAR&quot;</td><td>80003</td><td>&quot;NEOPLASIA MALI…</td><td>&quot;Y&quot;</td><td>&quot;Y&quot;</td><td>&quot;Y&quot;</td><td>&quot;Y&quot;</td><td>&quot;Y&quot;</td><td>&quot;Y&quot;</td><td>&quot;Y&quot;</td><td>&quot;Y&quot;</td><td>8</td><td>8</td><td>8</td><td>8</td><td>8</td><td>8</td><td>&quot;EC4 PT4 PN2 PM…</td><td>null</td><td>null</td><td>null</td><td>null</td><td>&hellip;</td><td>0</td><td>0</td><td>0</td><td>0</td><td>&quot;2023-05-25&quot;</td><td>2</td><td>0</td><td>287.0</td><td>287.0</td><td>2020</td><td>&quot;XIIB&quot;</td><td>&quot;XII  OUTRAS NE…</td><td>&quot;B  OUTROS TUMO…</td><td>&quot;10-19&quot;</td><td>1</td><td>null</td><td>&quot;DRS 04  SANTOS…</td><td>7</td><td>0</td><td>0</td><td>null</td><td>1</td><td>0</td><td>0</td><td>0</td><td>null</td><td>null</td><td>null</td><td>null</td><td>3548500</td><td>80003</td><td>&quot;NEOPLASIA MALI…</td><td>2</td><td>&quot;UNACON com Ser…</td><td>1</td><td>1</td><td>&quot;Santos&quot;</td></tr></tbody></table></div>"
      ],
      "text/plain": [
       "shape: (5, 100)\n",
       "┌──────────┬───────┬──────┬────────┬───┬────────────────────────┬──────────┬──────────┬────────────┐\n",
       "│ ESCOLARI ┆ IDADE ┆ SEXO ┆ UFNASC ┆ … ┆ HABIT11                ┆ HABILIT1 ┆ HABILIT2 ┆ CIDADEH    │\n",
       "│ ---      ┆ ---   ┆ ---  ┆ ---    ┆   ┆ ---                    ┆ ---      ┆ ---      ┆ ---        │\n",
       "│ i64      ┆ i64   ┆ i64  ┆ str    ┆   ┆ str                    ┆ i64      ┆ i64      ┆ str        │\n",
       "╞══════════╪═══════╪══════╪════════╪═══╪════════════════════════╪══════════╪══════════╪════════════╡\n",
       "│ 4        ┆ 17    ┆ 2    ┆ SP     ┆ … ┆ UNACON com Serviços de ┆ 1        ┆ 1        ┆ Piracicaba │\n",
       "│          ┆       ┆      ┆        ┆   ┆ Radiotera…             ┆          ┆          ┆            │\n",
       "│ 9        ┆ 1     ┆ 2    ┆ SP     ┆ … ┆ Inativo                ┆ 6        ┆ 5        ┆ Bauru      │\n",
       "│ 9        ┆ 18    ┆ 2    ┆ SP     ┆ … ┆ UNACON com Serviço de  ┆ 1        ┆ 1        ┆ Santos     │\n",
       "│          ┆       ┆      ┆        ┆   ┆ Radioterap…            ┆          ┆          ┆            │\n",
       "│ 5        ┆ 19    ┆ 1    ┆ RR     ┆ … ┆ UNACON com Serviço de  ┆ 1        ┆ 1        ┆ Santos     │\n",
       "│          ┆       ┆      ┆        ┆   ┆ Radioterap…            ┆          ┆          ┆            │\n",
       "│ 4        ┆ 16    ┆ 1    ┆ SP     ┆ … ┆ UNACON com Serviço de  ┆ 1        ┆ 1        ┆ Santos     │\n",
       "│          ┆       ┆      ┆        ┆   ┆ Radioterap…            ┆          ┆          ┆            │\n",
       "└──────────┴───────┴──────┴────────┴───┴────────────────────────┴──────────┴──────────┴────────────┘"
      ]
     },
     "execution_count": 5,
     "metadata": {},
     "output_type": "execute_result"
    }
   ],
   "source": [
    "df = ps.read_csv(\"data/pacigeral_12_23.csv\")\n",
    "df.head()"
   ]
  },
  {
   "cell_type": "markdown",
   "id": "4ceb1f5d-04c8-41ce-955c-5e300e51fff3",
   "metadata": {},
   "source": [
    "# Introdução\n",
    "Seguindo o formato dos dados acima, iremos selecionar as colunas as quais mais fazem sentido para nosso sistema, e assim aplicar algum tipo de tratamento à elas"
   ]
  },
  {
   "cell_type": "markdown",
   "id": "bed4225b-ef29-4d7f-aee7-929f7287f306",
   "metadata": {},
   "source": [
    "# Retirando colunas desnecessarias\n",
    "\n",
    "Para um DataFrame menor e mais coeso com o que nossa aplicação irá utilizar, precisamos retirar certas colunas do nosso DF atual"
   ]
  },
  {
   "cell_type": "code",
   "execution_count": null,
   "id": "bc99d3b6-5c39-4b94-9e68-c8700b1fc5ca",
   "metadata": {},
   "outputs": [],
   "source": [
    "columns_to_remove = [\"ESCOLARI\", \"IBGE\", \n",
    "                     \"UFNASC\", \"CIDADE\", \n",
    "                     \"DTCONSULT\", \"CLINICA\", \n",
    "                     \"TOPO\", \"TOPOGRUP\",\n",
    "                     \"DESCTOPO\", \"MORFO\",\n",
    "                     \"DESCMORFO\", \"\"\n",
    "                    ]"
   ]
  },
  {
   "cell_type": "markdown",
   "id": "813a4c55-8d14-4301-8987-d81e89567582",
   "metadata": {},
   "source": [
    "# Coluna sexo\n",
    "para essa coluna, os dados estão em formato numérico (1- para sexo masculino, 2- para feminino), nessa etapa, faremos uma query para verificar se existe algum registro que não possui essa informação, caso esse seja o caso, iremos aplicar um método para preencher o registro com a informação. Em seguida, iremos transformar a informação numérica em uma string"
   ]
  },
  {
   "cell_type": "code",
   "execution_count": 6,
   "id": "5f9c1a1b-df55-4e5c-aab9-63ef39032346",
   "metadata": {},
   "outputs": [
    {
     "data": {
      "text/html": [
       "<div><style>\n",
       ".dataframe > thead > tr,\n",
       ".dataframe > tbody > tr {\n",
       "  text-align: right;\n",
       "  white-space: pre-wrap;\n",
       "}\n",
       "</style>\n",
       "<small>shape: (0, 100)</small><table border=\"1\" class=\"dataframe\"><thead><tr><th>ESCOLARI</th><th>IDADE</th><th>SEXO</th><th>UFNASC</th><th>UFRESID</th><th>IBGE</th><th>CIDADE</th><th>CATEATEND</th><th>DTCONSULT</th><th>CLINICA</th><th>DIAGPREV</th><th>DTDIAG</th><th>BASEDIAG</th><th>TOPO</th><th>TOPOGRUP</th><th>DESCTOPO</th><th>MORFO</th><th>DESCMORFO</th><th>EC</th><th>ECGRUP</th><th>T</th><th>N</th><th>M</th><th>PT</th><th>PN</th><th>PM</th><th>S</th><th>G</th><th>LOCALTNM</th><th>IDMITOTIC</th><th>PSA</th><th>GLEASON</th><th>OUTRACLA</th><th>META01</th><th>META02</th><th>META03</th><th>META04</th><th>&hellip;</th><th>HORMOAPOS</th><th>TMOAPOS</th><th>IMUNOAPOS</th><th>OUTROAPOS</th><th>DTULTINFO</th><th>ULTINFO</th><th>CONSDIAG</th><th>TRATCONS</th><th>DIAGTRAT</th><th>ANODIAG</th><th>CICI</th><th>CICIGRUP</th><th>CICISUBGRU</th><th>FAIXAETAR</th><th>LATERALI</th><th>INSTORIG</th><th>DRS</th><th>RRAS</th><th>PERDASEG</th><th>ERRO</th><th>DTRECIDIVA</th><th>RECNENHUM</th><th>RECLOCAL</th><th>RECREGIO</th><th>RECDIST</th><th>REC01</th><th>REC02</th><th>REC03</th><th>REC04</th><th>IBGEATEN</th><th>CIDO</th><th>DSCCIDO</th><th>HABILIT</th><th>HABIT11</th><th>HABILIT1</th><th>HABILIT2</th><th>CIDADEH</th></tr><tr><td>i64</td><td>i64</td><td>i64</td><td>str</td><td>str</td><td>i64</td><td>str</td><td>i64</td><td>str</td><td>i64</td><td>i64</td><td>str</td><td>i64</td><td>str</td><td>str</td><td>str</td><td>i64</td><td>str</td><td>str</td><td>str</td><td>str</td><td>str</td><td>str</td><td>str</td><td>str</td><td>str</td><td>i64</td><td>i64</td><td>i64</td><td>i64</td><td>i64</td><td>i64</td><td>str</td><td>str</td><td>str</td><td>str</td><td>str</td><td>&hellip;</td><td>i64</td><td>i64</td><td>i64</td><td>i64</td><td>str</td><td>i64</td><td>i64</td><td>f64</td><td>f64</td><td>i64</td><td>str</td><td>str</td><td>str</td><td>str</td><td>i64</td><td>str</td><td>str</td><td>i64</td><td>i64</td><td>i64</td><td>str</td><td>i64</td><td>i64</td><td>i64</td><td>i64</td><td>str</td><td>str</td><td>str</td><td>str</td><td>i64</td><td>i64</td><td>str</td><td>i64</td><td>str</td><td>i64</td><td>i64</td><td>str</td></tr></thead><tbody></tbody></table></div>"
      ],
      "text/plain": [
       "shape: (0, 100)\n",
       "┌──────────┬───────┬──────┬────────┬───┬─────────┬──────────┬──────────┬─────────┐\n",
       "│ ESCOLARI ┆ IDADE ┆ SEXO ┆ UFNASC ┆ … ┆ HABIT11 ┆ HABILIT1 ┆ HABILIT2 ┆ CIDADEH │\n",
       "│ ---      ┆ ---   ┆ ---  ┆ ---    ┆   ┆ ---     ┆ ---      ┆ ---      ┆ ---     │\n",
       "│ i64      ┆ i64   ┆ i64  ┆ str    ┆   ┆ str     ┆ i64      ┆ i64      ┆ str     │\n",
       "╞══════════╪═══════╪══════╪════════╪═══╪═════════╪══════════╪══════════╪═════════╡\n",
       "└──────────┴───────┴──────┴────────┴───┴─────────┴──────────┴──────────┴─────────┘"
      ]
     },
     "execution_count": 6,
     "metadata": {},
     "output_type": "execute_result"
    }
   ],
   "source": [
    "df.filter(ps.col(\"SEXO\").is_null() | ~((ps.col(\"SEXO\") == 1) | (ps.col(\"SEXO\") == 2)))"
   ]
  },
  {
   "cell_type": "markdown",
   "id": "2f299324-6acc-4880-a179-afe00a959ef9",
   "metadata": {},
   "source": [
    "Conforme o código acima, não existe nenhum dado que é nulo ou que seja diferente de 1 e 2, portanto, podemos prosseguir com o tratamento"
   ]
  },
  {
   "cell_type": "code",
   "execution_count": 7,
   "id": "86a47ca3-64b0-435b-bc36-a55400800db4",
   "metadata": {},
   "outputs": [
    {
     "data": {
      "text/html": [
       "<div><style>\n",
       ".dataframe > thead > tr,\n",
       ".dataframe > tbody > tr {\n",
       "  text-align: right;\n",
       "  white-space: pre-wrap;\n",
       "}\n",
       "</style>\n",
       "<small>shape: (5, 100)</small><table border=\"1\" class=\"dataframe\"><thead><tr><th>ESCOLARI</th><th>IDADE</th><th>SEXO</th><th>UFNASC</th><th>UFRESID</th><th>IBGE</th><th>CIDADE</th><th>CATEATEND</th><th>DTCONSULT</th><th>CLINICA</th><th>DIAGPREV</th><th>DTDIAG</th><th>BASEDIAG</th><th>TOPO</th><th>TOPOGRUP</th><th>DESCTOPO</th><th>MORFO</th><th>DESCMORFO</th><th>EC</th><th>ECGRUP</th><th>T</th><th>N</th><th>M</th><th>PT</th><th>PN</th><th>PM</th><th>S</th><th>G</th><th>LOCALTNM</th><th>IDMITOTIC</th><th>PSA</th><th>GLEASON</th><th>OUTRACLA</th><th>META01</th><th>META02</th><th>META03</th><th>META04</th><th>&hellip;</th><th>HORMOAPOS</th><th>TMOAPOS</th><th>IMUNOAPOS</th><th>OUTROAPOS</th><th>DTULTINFO</th><th>ULTINFO</th><th>CONSDIAG</th><th>TRATCONS</th><th>DIAGTRAT</th><th>ANODIAG</th><th>CICI</th><th>CICIGRUP</th><th>CICISUBGRU</th><th>FAIXAETAR</th><th>LATERALI</th><th>INSTORIG</th><th>DRS</th><th>RRAS</th><th>PERDASEG</th><th>ERRO</th><th>DTRECIDIVA</th><th>RECNENHUM</th><th>RECLOCAL</th><th>RECREGIO</th><th>RECDIST</th><th>REC01</th><th>REC02</th><th>REC03</th><th>REC04</th><th>IBGEATEN</th><th>CIDO</th><th>DSCCIDO</th><th>HABILIT</th><th>HABIT11</th><th>HABILIT1</th><th>HABILIT2</th><th>CIDADEH</th></tr><tr><td>i64</td><td>i64</td><td>str</td><td>str</td><td>str</td><td>i64</td><td>str</td><td>i64</td><td>str</td><td>i64</td><td>i64</td><td>str</td><td>i64</td><td>str</td><td>str</td><td>str</td><td>i64</td><td>str</td><td>str</td><td>str</td><td>str</td><td>str</td><td>str</td><td>str</td><td>str</td><td>str</td><td>i64</td><td>i64</td><td>i64</td><td>i64</td><td>i64</td><td>i64</td><td>str</td><td>str</td><td>str</td><td>str</td><td>str</td><td>&hellip;</td><td>i64</td><td>i64</td><td>i64</td><td>i64</td><td>str</td><td>i64</td><td>i64</td><td>f64</td><td>f64</td><td>i64</td><td>str</td><td>str</td><td>str</td><td>str</td><td>i64</td><td>str</td><td>str</td><td>i64</td><td>i64</td><td>i64</td><td>str</td><td>i64</td><td>i64</td><td>i64</td><td>i64</td><td>str</td><td>str</td><td>str</td><td>str</td><td>i64</td><td>i64</td><td>str</td><td>i64</td><td>str</td><td>i64</td><td>i64</td><td>str</td></tr></thead><tbody><tr><td>4</td><td>17</td><td>&quot;Feminino&quot;</td><td>&quot;SP&quot;</td><td>&quot;SP&quot;</td><td>3538709</td><td>&quot;PIRACICABA&quot;</td><td>9</td><td>&quot;2011-06-21&quot;</td><td>24</td><td>2</td><td>&quot;2011-06-09&quot;</td><td>3</td><td>&quot;C499&quot;</td><td>&quot;C49&quot;</td><td>&quot;TECIDO CONJUNT…</td><td>80003</td><td>&quot;NEOPLASIA MALI…</td><td>&quot;Y&quot;</td><td>&quot;Y&quot;</td><td>&quot;Y&quot;</td><td>&quot;Y&quot;</td><td>&quot;Y&quot;</td><td>&quot;Y&quot;</td><td>&quot;Y&quot;</td><td>&quot;Y&quot;</td><td>8</td><td>8</td><td>8</td><td>8</td><td>8</td><td>8</td><td>null</td><td>null</td><td>null</td><td>null</td><td>null</td><td>&hellip;</td><td>0</td><td>0</td><td>0</td><td>0</td><td>&quot;2018-08-24&quot;</td><td>2</td><td>12</td><td>254.0</td><td>266.0</td><td>2011</td><td>&quot;XIIB&quot;</td><td>&quot;XII  OUTRAS NE…</td><td>&quot;B  OUTROS TUMO…</td><td>&quot;10-19&quot;</td><td>8</td><td>null</td><td>&quot;DRS 10  PIRACI…</td><td>14</td><td>1</td><td>0</td><td>null</td><td>1</td><td>0</td><td>0</td><td>0</td><td>null</td><td>null</td><td>null</td><td>null</td><td>3538709</td><td>80003</td><td>&quot;NEOPLASIA MALI…</td><td>9</td><td>&quot;UNACON com Ser…</td><td>1</td><td>1</td><td>&quot;Piracicaba&quot;</td></tr><tr><td>9</td><td>1</td><td>&quot;Feminino&quot;</td><td>&quot;SP&quot;</td><td>&quot;SP&quot;</td><td>3535507</td><td>&quot;PARAGUACU PAUL…</td><td>9</td><td>&quot;2005-02-25&quot;</td><td>3</td><td>1</td><td>&quot;2005-02-25&quot;</td><td>3</td><td>&quot;C310&quot;</td><td>&quot;C31&quot;</td><td>&quot;SEIO MAXILAR&quot;</td><td>80003</td><td>&quot;NEOPLASIA MALI…</td><td>&quot;Y&quot;</td><td>&quot;Y&quot;</td><td>&quot;Y&quot;</td><td>&quot;Y&quot;</td><td>&quot;Y&quot;</td><td>&quot;Y&quot;</td><td>&quot;Y&quot;</td><td>&quot;Y&quot;</td><td>8</td><td>8</td><td>8</td><td>8</td><td>8</td><td>8</td><td>null</td><td>&quot;C22&quot;</td><td>null</td><td>null</td><td>null</td><td>&hellip;</td><td>0</td><td>0</td><td>0</td><td>0</td><td>&quot;2006-08-05&quot;</td><td>4</td><td>0</td><td>0.0</td><td>0.0</td><td>2005</td><td>&quot;XIIB&quot;</td><td>&quot;XII  OUTRAS NE…</td><td>&quot;B  OUTROS TUMO…</td><td>&quot;00-09&quot;</td><td>8</td><td>null</td><td>&quot;DRS 09  MARÍLI…</td><td>10</td><td>0</td><td>0</td><td>null</td><td>1</td><td>0</td><td>0</td><td>0</td><td>null</td><td>null</td><td>null</td><td>null</td><td>3506003</td><td>80003</td><td>&quot;NEOPLASIA MALI…</td><td>14</td><td>&quot;Inativo&quot;</td><td>6</td><td>5</td><td>&quot;Bauru&quot;</td></tr><tr><td>9</td><td>18</td><td>&quot;Feminino&quot;</td><td>&quot;SP&quot;</td><td>&quot;SP&quot;</td><td>3548500</td><td>&quot;SANTOS&quot;</td><td>9</td><td>&quot;2012-05-14&quot;</td><td>24</td><td>1</td><td>&quot;2012-05-16&quot;</td><td>3</td><td>&quot;C494&quot;</td><td>&quot;C49&quot;</td><td>&quot;TEC CONJUNTIVO…</td><td>80003</td><td>&quot;NEOPLASIA MALI…</td><td>&quot;Y&quot;</td><td>&quot;Y&quot;</td><td>&quot;Y&quot;</td><td>&quot;Y&quot;</td><td>&quot;Y&quot;</td><td>null</td><td>null</td><td>null</td><td>8</td><td>8</td><td>8</td><td>8</td><td>8</td><td>8</td><td>null</td><td>null</td><td>null</td><td>null</td><td>null</td><td>&hellip;</td><td>0</td><td>0</td><td>0</td><td>0</td><td>&quot;2023-11-14&quot;</td><td>2</td><td>2</td><td>2.0</td><td>0.0</td><td>2012</td><td>&quot;XIIB&quot;</td><td>&quot;XII  OUTRAS NE…</td><td>&quot;B  OUTROS TUMO…</td><td>&quot;10-19&quot;</td><td>1</td><td>null</td><td>&quot;DRS 04  SANTOS…</td><td>7</td><td>0</td><td>0</td><td>null</td><td>1</td><td>0</td><td>0</td><td>0</td><td>null</td><td>null</td><td>null</td><td>null</td><td>3548500</td><td>80003</td><td>&quot;NEOPLASIA MALI…</td><td>2</td><td>&quot;UNACON com Ser…</td><td>1</td><td>1</td><td>&quot;Santos&quot;</td></tr><tr><td>5</td><td>19</td><td>&quot;Masculino&quot;</td><td>&quot;RR&quot;</td><td>&quot;SP&quot;</td><td>3548500</td><td>&quot;SANTOS&quot;</td><td>1</td><td>&quot;2017-08-10&quot;</td><td>31</td><td>2</td><td>&quot;2016-12-03&quot;</td><td>3</td><td>&quot;C444&quot;</td><td>&quot;C44&quot;</td><td>&quot;PELE DO COURO …</td><td>80003</td><td>&quot;NEOPLASIA MALI…</td><td>&quot;Y&quot;</td><td>&quot;Y&quot;</td><td>&quot;Y&quot;</td><td>&quot;Y&quot;</td><td>&quot;Y&quot;</td><td>&quot;Y&quot;</td><td>&quot;Y&quot;</td><td>&quot;Y&quot;</td><td>8</td><td>8</td><td>8</td><td>8</td><td>8</td><td>8</td><td>&quot;T4 N0 M0&quot;</td><td>null</td><td>null</td><td>null</td><td>null</td><td>&hellip;</td><td>0</td><td>0</td><td>0</td><td>0</td><td>&quot;2021-09-09&quot;</td><td>2</td><td>250</td><td>20.0</td><td>270.0</td><td>2016</td><td>&quot;XIIB&quot;</td><td>&quot;XII  OUTRAS NE…</td><td>&quot;B  OUTROS TUMO…</td><td>&quot;10-19&quot;</td><td>8</td><td>null</td><td>&quot;DRS 04  SANTOS…</td><td>7</td><td>0</td><td>0</td><td>null</td><td>1</td><td>0</td><td>0</td><td>0</td><td>null</td><td>null</td><td>null</td><td>null</td><td>3548500</td><td>80003</td><td>&quot;NEOPLASIA MALI…</td><td>2</td><td>&quot;UNACON com Ser…</td><td>1</td><td>1</td><td>&quot;Santos&quot;</td></tr><tr><td>4</td><td>16</td><td>&quot;Masculino&quot;</td><td>&quot;SP&quot;</td><td>&quot;SP&quot;</td><td>3548500</td><td>&quot;SANTOS&quot;</td><td>2</td><td>&quot;2020-04-17&quot;</td><td>31</td><td>2</td><td>&quot;2020-04-17&quot;</td><td>3</td><td>&quot;C310&quot;</td><td>&quot;C31&quot;</td><td>&quot;SEIO MAXILAR&quot;</td><td>80003</td><td>&quot;NEOPLASIA MALI…</td><td>&quot;Y&quot;</td><td>&quot;Y&quot;</td><td>&quot;Y&quot;</td><td>&quot;Y&quot;</td><td>&quot;Y&quot;</td><td>&quot;Y&quot;</td><td>&quot;Y&quot;</td><td>&quot;Y&quot;</td><td>8</td><td>8</td><td>8</td><td>8</td><td>8</td><td>8</td><td>&quot;EC4 PT4 PN2 PM…</td><td>null</td><td>null</td><td>null</td><td>null</td><td>&hellip;</td><td>0</td><td>0</td><td>0</td><td>0</td><td>&quot;2023-05-25&quot;</td><td>2</td><td>0</td><td>287.0</td><td>287.0</td><td>2020</td><td>&quot;XIIB&quot;</td><td>&quot;XII  OUTRAS NE…</td><td>&quot;B  OUTROS TUMO…</td><td>&quot;10-19&quot;</td><td>1</td><td>null</td><td>&quot;DRS 04  SANTOS…</td><td>7</td><td>0</td><td>0</td><td>null</td><td>1</td><td>0</td><td>0</td><td>0</td><td>null</td><td>null</td><td>null</td><td>null</td><td>3548500</td><td>80003</td><td>&quot;NEOPLASIA MALI…</td><td>2</td><td>&quot;UNACON com Ser…</td><td>1</td><td>1</td><td>&quot;Santos&quot;</td></tr></tbody></table></div>"
      ],
      "text/plain": [
       "shape: (5, 100)\n",
       "┌──────────┬───────┬───────────┬────────┬───┬─────────────┬──────────┬──────────┬────────────┐\n",
       "│ ESCOLARI ┆ IDADE ┆ SEXO      ┆ UFNASC ┆ … ┆ HABIT11     ┆ HABILIT1 ┆ HABILIT2 ┆ CIDADEH    │\n",
       "│ ---      ┆ ---   ┆ ---       ┆ ---    ┆   ┆ ---         ┆ ---      ┆ ---      ┆ ---        │\n",
       "│ i64      ┆ i64   ┆ str       ┆ str    ┆   ┆ str         ┆ i64      ┆ i64      ┆ str        │\n",
       "╞══════════╪═══════╪═══════════╪════════╪═══╪═════════════╪══════════╪══════════╪════════════╡\n",
       "│ 4        ┆ 17    ┆ Feminino  ┆ SP     ┆ … ┆ UNACON com  ┆ 1        ┆ 1        ┆ Piracicaba │\n",
       "│          ┆       ┆           ┆        ┆   ┆ Serviços de ┆          ┆          ┆            │\n",
       "│          ┆       ┆           ┆        ┆   ┆ Radiotera…  ┆          ┆          ┆            │\n",
       "│ 9        ┆ 1     ┆ Feminino  ┆ SP     ┆ … ┆ Inativo     ┆ 6        ┆ 5        ┆ Bauru      │\n",
       "│ 9        ┆ 18    ┆ Feminino  ┆ SP     ┆ … ┆ UNACON com  ┆ 1        ┆ 1        ┆ Santos     │\n",
       "│          ┆       ┆           ┆        ┆   ┆ Serviço de  ┆          ┆          ┆            │\n",
       "│          ┆       ┆           ┆        ┆   ┆ Radioterap… ┆          ┆          ┆            │\n",
       "│ 5        ┆ 19    ┆ Masculino ┆ RR     ┆ … ┆ UNACON com  ┆ 1        ┆ 1        ┆ Santos     │\n",
       "│          ┆       ┆           ┆        ┆   ┆ Serviço de  ┆          ┆          ┆            │\n",
       "│          ┆       ┆           ┆        ┆   ┆ Radioterap… ┆          ┆          ┆            │\n",
       "│ 4        ┆ 16    ┆ Masculino ┆ SP     ┆ … ┆ UNACON com  ┆ 1        ┆ 1        ┆ Santos     │\n",
       "│          ┆       ┆           ┆        ┆   ┆ Serviço de  ┆          ┆          ┆            │\n",
       "│          ┆       ┆           ┆        ┆   ┆ Radioterap… ┆          ┆          ┆            │\n",
       "└──────────┴───────┴───────────┴────────┴───┴─────────────┴──────────┴──────────┴────────────┘"
      ]
     },
     "execution_count": 7,
     "metadata": {},
     "output_type": "execute_result"
    }
   ],
   "source": [
    "df = df.with_columns(\n",
    "    (ps.when(ps.col(\"SEXO\") == 1)\n",
    "     .then(ps.lit(\"Masculino\"))\n",
    "     .otherwise(ps.lit(\"Feminino\"))\n",
    "     .alias(\"SEXO\")\n",
    "    )\n",
    ")\n",
    "df.head()"
   ]
  },
  {
   "cell_type": "markdown",
   "id": "52674233-1630-432f-8432-e99d6ab3966d",
   "metadata": {},
   "source": [
    "# Coluna Idade\n",
    "Para esta coluna, devemos apenas fazer a verificação se há alguma observação com valor faltante"
   ]
  },
  {
   "cell_type": "code",
   "execution_count": 12,
   "id": "1929278f-85c2-44b5-8bba-44e385321d67",
   "metadata": {},
   "outputs": [
    {
     "data": {
      "text/html": [
       "<div><style>\n",
       ".dataframe > thead > tr,\n",
       ".dataframe > tbody > tr {\n",
       "  text-align: right;\n",
       "  white-space: pre-wrap;\n",
       "}\n",
       "</style>\n",
       "<small>shape: (2_118, 100)</small><table border=\"1\" class=\"dataframe\"><thead><tr><th>ESCOLARI</th><th>IDADE</th><th>SEXO</th><th>UFNASC</th><th>UFRESID</th><th>IBGE</th><th>CIDADE</th><th>CATEATEND</th><th>DTCONSULT</th><th>CLINICA</th><th>DIAGPREV</th><th>DTDIAG</th><th>BASEDIAG</th><th>TOPO</th><th>TOPOGRUP</th><th>DESCTOPO</th><th>MORFO</th><th>DESCMORFO</th><th>EC</th><th>ECGRUP</th><th>T</th><th>N</th><th>M</th><th>PT</th><th>PN</th><th>PM</th><th>S</th><th>G</th><th>LOCALTNM</th><th>IDMITOTIC</th><th>PSA</th><th>GLEASON</th><th>OUTRACLA</th><th>META01</th><th>META02</th><th>META03</th><th>META04</th><th>&hellip;</th><th>HORMOAPOS</th><th>TMOAPOS</th><th>IMUNOAPOS</th><th>OUTROAPOS</th><th>DTULTINFO</th><th>ULTINFO</th><th>CONSDIAG</th><th>TRATCONS</th><th>DIAGTRAT</th><th>ANODIAG</th><th>CICI</th><th>CICIGRUP</th><th>CICISUBGRU</th><th>FAIXAETAR</th><th>LATERALI</th><th>INSTORIG</th><th>DRS</th><th>RRAS</th><th>PERDASEG</th><th>ERRO</th><th>DTRECIDIVA</th><th>RECNENHUM</th><th>RECLOCAL</th><th>RECREGIO</th><th>RECDIST</th><th>REC01</th><th>REC02</th><th>REC03</th><th>REC04</th><th>IBGEATEN</th><th>CIDO</th><th>DSCCIDO</th><th>HABILIT</th><th>HABIT11</th><th>HABILIT1</th><th>HABILIT2</th><th>CIDADEH</th></tr><tr><td>i64</td><td>i64</td><td>str</td><td>str</td><td>str</td><td>i64</td><td>str</td><td>i64</td><td>str</td><td>i64</td><td>i64</td><td>str</td><td>i64</td><td>str</td><td>str</td><td>str</td><td>i64</td><td>str</td><td>str</td><td>str</td><td>str</td><td>str</td><td>str</td><td>str</td><td>str</td><td>str</td><td>i64</td><td>i64</td><td>i64</td><td>i64</td><td>i64</td><td>i64</td><td>str</td><td>str</td><td>str</td><td>str</td><td>str</td><td>&hellip;</td><td>i64</td><td>i64</td><td>i64</td><td>i64</td><td>str</td><td>i64</td><td>i64</td><td>f64</td><td>f64</td><td>i64</td><td>str</td><td>str</td><td>str</td><td>str</td><td>i64</td><td>str</td><td>str</td><td>i64</td><td>i64</td><td>i64</td><td>str</td><td>i64</td><td>i64</td><td>i64</td><td>i64</td><td>str</td><td>str</td><td>str</td><td>str</td><td>i64</td><td>i64</td><td>str</td><td>i64</td><td>str</td><td>i64</td><td>i64</td><td>str</td></tr></thead><tbody><tr><td>1</td><td>0</td><td>&quot;Feminino&quot;</td><td>&quot;SP&quot;</td><td>&quot;SP&quot;</td><td>3547809</td><td>&quot;SANTO ANDRE&quot;</td><td>2</td><td>&quot;2011-05-12&quot;</td><td>25</td><td>1</td><td>&quot;2011-07-01&quot;</td><td>3</td><td>&quot;C696&quot;</td><td>&quot;C69&quot;</td><td>&quot;ORBITA SOE&quot;</td><td>80003</td><td>&quot;NEOPLASIA MALI…</td><td>&quot;Y&quot;</td><td>&quot;Y&quot;</td><td>&quot;Y&quot;</td><td>&quot;Y&quot;</td><td>&quot;Y&quot;</td><td>null</td><td>null</td><td>null</td><td>8</td><td>8</td><td>8</td><td>8</td><td>8</td><td>8</td><td>null</td><td>null</td><td>null</td><td>null</td><td>null</td><td>&hellip;</td><td>0</td><td>0</td><td>0</td><td>0</td><td>&quot;2023-02-13&quot;</td><td>2</td><td>50</td><td>53.0</td><td>3.0</td><td>2011</td><td>&quot;XIIB&quot;</td><td>&quot;XII  OUTRAS NE…</td><td>&quot;B  OUTROS TUMO…</td><td>&quot;00-09&quot;</td><td>2</td><td>null</td><td>&quot;DRS 01  SÃO PA…</td><td>1</td><td>0</td><td>0</td><td>null</td><td>1</td><td>0</td><td>0</td><td>0</td><td>null</td><td>null</td><td>null</td><td>null</td><td>3547809</td><td>80003</td><td>&quot;NEOPLASIA MALI…</td><td>2</td><td>&quot;UNACON com Ser…</td><td>1</td><td>1</td><td>null</td></tr><tr><td>1</td><td>0</td><td>&quot;Masculino&quot;</td><td>&quot;SP&quot;</td><td>&quot;SP&quot;</td><td>3522703</td><td>&quot;ITAPOLIS&quot;</td><td>2</td><td>&quot;2014-05-12&quot;</td><td>24</td><td>1</td><td>&quot;2014-05-15&quot;</td><td>3</td><td>&quot;C493&quot;</td><td>&quot;C49&quot;</td><td>&quot;TEC CONJUNTIVO…</td><td>80003</td><td>&quot;NEOPLASIA MALI…</td><td>&quot;Y&quot;</td><td>&quot;Y&quot;</td><td>&quot;Y&quot;</td><td>&quot;Y&quot;</td><td>&quot;Y&quot;</td><td>null</td><td>null</td><td>null</td><td>8</td><td>8</td><td>8</td><td>8</td><td>8</td><td>8</td><td>null</td><td>null</td><td>null</td><td>null</td><td>null</td><td>&hellip;</td><td>0</td><td>0</td><td>0</td><td>0</td><td>&quot;2021-08-17&quot;</td><td>2</td><td>3</td><td>3.0</td><td>0.0</td><td>2014</td><td>&quot;XIIB&quot;</td><td>&quot;XII  OUTRAS NE…</td><td>&quot;B  OUTROS TUMO…</td><td>&quot;00-09&quot;</td><td>8</td><td>null</td><td>&quot;DRS 03  ARARAQ…</td><td>13</td><td>1</td><td>0</td><td>null</td><td>1</td><td>0</td><td>0</td><td>0</td><td>null</td><td>null</td><td>null</td><td>null</td><td>3505500</td><td>80003</td><td>&quot;NEOPLASIA MALI…</td><td>7</td><td>&quot;CACON com Serv…</td><td>3</td><td>2</td><td>&quot;Barretos&quot;</td></tr><tr><td>9</td><td>0</td><td>&quot;Masculino&quot;</td><td>&quot;SP&quot;</td><td>&quot;SP&quot;</td><td>3535507</td><td>&quot;PARAGUACU PAUL…</td><td>9</td><td>&quot;2011-02-25&quot;</td><td>24</td><td>1</td><td>&quot;2011-02-25&quot;</td><td>3</td><td>&quot;C762&quot;</td><td>&quot;C76&quot;</td><td>&quot;ABDOME SOE&quot;</td><td>80003</td><td>&quot;NEOPLASIA MALI…</td><td>&quot;Y&quot;</td><td>&quot;Y&quot;</td><td>&quot;Y&quot;</td><td>&quot;Y&quot;</td><td>&quot;Y&quot;</td><td>&quot;Y&quot;</td><td>&quot;Y&quot;</td><td>&quot;Y&quot;</td><td>8</td><td>8</td><td>8</td><td>8</td><td>8</td><td>8</td><td>null</td><td>null</td><td>null</td><td>null</td><td>null</td><td>&hellip;</td><td>0</td><td>0</td><td>0</td><td>0</td><td>&quot;2013-04-12&quot;</td><td>3</td><td>0</td><td>0.0</td><td>0.0</td><td>2011</td><td>&quot;XIIB&quot;</td><td>&quot;XII  OUTRAS NE…</td><td>&quot;B  OUTROS TUMO…</td><td>&quot;00-09&quot;</td><td>8</td><td>null</td><td>&quot;DRS 09  MARÍLI…</td><td>10</td><td>0</td><td>0</td><td>null</td><td>1</td><td>0</td><td>0</td><td>0</td><td>null</td><td>null</td><td>null</td><td>null</td><td>3529005</td><td>80003</td><td>&quot;NEOPLASIA MALI…</td><td>7</td><td>&quot;CACON com Serv…</td><td>3</td><td>2</td><td>&quot;Marilia&quot;</td></tr><tr><td>1</td><td>0</td><td>&quot;Feminino&quot;</td><td>&quot;SP&quot;</td><td>&quot;SP&quot;</td><td>3553708</td><td>&quot;TAQUARITINGA&quot;</td><td>2</td><td>&quot;2022-06-27&quot;</td><td>28</td><td>2</td><td>&quot;2022-06-25&quot;</td><td>3</td><td>&quot;C381&quot;</td><td>&quot;C38&quot;</td><td>&quot;MEDIASTINO ANT…</td><td>80003</td><td>&quot;NEOPLASIA MALI…</td><td>&quot;Y&quot;</td><td>&quot;Y&quot;</td><td>&quot;Y&quot;</td><td>&quot;Y&quot;</td><td>&quot;Y&quot;</td><td>null</td><td>null</td><td>null</td><td>8</td><td>8</td><td>8</td><td>8</td><td>8</td><td>8</td><td>null</td><td>null</td><td>null</td><td>null</td><td>null</td><td>&hellip;</td><td>0</td><td>0</td><td>0</td><td>0</td><td>&quot;2022-07-16&quot;</td><td>3</td><td>2</td><td>11.0</td><td>13.0</td><td>2022</td><td>&quot;XIIB&quot;</td><td>&quot;XII  OUTRAS NE…</td><td>&quot;B  OUTROS TUMO…</td><td>&quot;00-09&quot;</td><td>8</td><td>null</td><td>&quot;DRS 03  ARARAQ…</td><td>13</td><td>0</td><td>0</td><td>null</td><td>1</td><td>0</td><td>0</td><td>0</td><td>null</td><td>null</td><td>null</td><td>null</td><td>3543402</td><td>80003</td><td>&quot;NEOPLASIA MALI…</td><td>7</td><td>&quot;CACON com Serv…</td><td>3</td><td>2</td><td>&quot;Ribeirão Preto…</td></tr><tr><td>1</td><td>0</td><td>&quot;Feminino&quot;</td><td>&quot;SP&quot;</td><td>&quot;SP&quot;</td><td>3550308</td><td>&quot;SAO PAULO&quot;</td><td>2</td><td>&quot;2020-11-04&quot;</td><td>25</td><td>1</td><td>&quot;2020-11-04&quot;</td><td>3</td><td>&quot;C529&quot;</td><td>&quot;C52&quot;</td><td>&quot;VAGINA SOE&quot;</td><td>80003</td><td>&quot;NEOPLASIA MALI…</td><td>&quot;Y&quot;</td><td>&quot;Y&quot;</td><td>&quot;Y&quot;</td><td>&quot;Y&quot;</td><td>&quot;Y&quot;</td><td>null</td><td>null</td><td>null</td><td>8</td><td>8</td><td>8</td><td>8</td><td>8</td><td>8</td><td>null</td><td>null</td><td>null</td><td>null</td><td>null</td><td>&hellip;</td><td>0</td><td>0</td><td>0</td><td>0</td><td>&quot;2021-08-18&quot;</td><td>4</td><td>0</td><td>14.0</td><td>14.0</td><td>2020</td><td>&quot;XIIB&quot;</td><td>&quot;XII  OUTRAS NE…</td><td>&quot;B  OUTROS TUMO…</td><td>&quot;00-09&quot;</td><td>8</td><td>null</td><td>&quot;DRS 01  SÃO PA…</td><td>6</td><td>0</td><td>0</td><td>null</td><td>1</td><td>0</td><td>0</td><td>0</td><td>null</td><td>null</td><td>null</td><td>null</td><td>3550308</td><td>80003</td><td>&quot;NEOPLASIA MALI…</td><td>5</td><td>&quot;UNACON exclusi…</td><td>2</td><td>1</td><td>&quot;São Paulo&quot;</td></tr><tr><td>&hellip;</td><td>&hellip;</td><td>&hellip;</td><td>&hellip;</td><td>&hellip;</td><td>&hellip;</td><td>&hellip;</td><td>&hellip;</td><td>&hellip;</td><td>&hellip;</td><td>&hellip;</td><td>&hellip;</td><td>&hellip;</td><td>&hellip;</td><td>&hellip;</td><td>&hellip;</td><td>&hellip;</td><td>&hellip;</td><td>&hellip;</td><td>&hellip;</td><td>&hellip;</td><td>&hellip;</td><td>&hellip;</td><td>&hellip;</td><td>&hellip;</td><td>&hellip;</td><td>&hellip;</td><td>&hellip;</td><td>&hellip;</td><td>&hellip;</td><td>&hellip;</td><td>&hellip;</td><td>&hellip;</td><td>&hellip;</td><td>&hellip;</td><td>&hellip;</td><td>&hellip;</td><td>&hellip;</td><td>&hellip;</td><td>&hellip;</td><td>&hellip;</td><td>&hellip;</td><td>&hellip;</td><td>&hellip;</td><td>&hellip;</td><td>&hellip;</td><td>&hellip;</td><td>&hellip;</td><td>&hellip;</td><td>&hellip;</td><td>&hellip;</td><td>&hellip;</td><td>&hellip;</td><td>&hellip;</td><td>&hellip;</td><td>&hellip;</td><td>&hellip;</td><td>&hellip;</td><td>&hellip;</td><td>&hellip;</td><td>&hellip;</td><td>&hellip;</td><td>&hellip;</td><td>&hellip;</td><td>&hellip;</td><td>&hellip;</td><td>&hellip;</td><td>&hellip;</td><td>&hellip;</td><td>&hellip;</td><td>&hellip;</td><td>&hellip;</td><td>&hellip;</td><td>&hellip;</td><td>&hellip;</td></tr><tr><td>1</td><td>0</td><td>&quot;Feminino&quot;</td><td>&quot;SP&quot;</td><td>&quot;SP&quot;</td><td>3550308</td><td>&quot;SAO PAULO&quot;</td><td>1</td><td>&quot;2013-11-25&quot;</td><td>25</td><td>2</td><td>&quot;2013-09-19&quot;</td><td>3</td><td>&quot;C740&quot;</td><td>&quot;C74&quot;</td><td>&quot;GLANDULA SUPRA…</td><td>82313</td><td>&quot;CARCINOMA SIMP…</td><td>&quot;Y&quot;</td><td>&quot;Y&quot;</td><td>&quot;Y&quot;</td><td>&quot;Y&quot;</td><td>&quot;Y&quot;</td><td>null</td><td>null</td><td>null</td><td>8</td><td>8</td><td>8</td><td>8</td><td>8</td><td>8</td><td>null</td><td>null</td><td>null</td><td>null</td><td>null</td><td>&hellip;</td><td>0</td><td>0</td><td>0</td><td>0</td><td>&quot;2014-12-23&quot;</td><td>1</td><td>67</td><td>0.0</td><td>67.0</td><td>2013</td><td>null</td><td>null</td><td>null</td><td>&quot;00-09&quot;</td><td>2</td><td>null</td><td>&quot;DRS 01  SÃO PA…</td><td>6</td><td>1</td><td>0</td><td>null</td><td>1</td><td>0</td><td>0</td><td>0</td><td>null</td><td>null</td><td>null</td><td>null</td><td>3550308</td><td>82313</td><td>&quot;CARCINOMA SIMP…</td><td>7</td><td>&quot;CACON com Serv…</td><td>3</td><td>2</td><td>&quot;São Paulo&quot;</td></tr><tr><td>1</td><td>0</td><td>&quot;Feminino&quot;</td><td>&quot;RO&quot;</td><td>&quot;RO&quot;</td><td>1100205</td><td>&quot;PORTO VELHO&quot;</td><td>2</td><td>&quot;2014-04-03&quot;</td><td>25</td><td>1</td><td>&quot;2014-04-04&quot;</td><td>3</td><td>&quot;C419&quot;</td><td>&quot;C41&quot;</td><td>&quot;OSSOS SOE&quot;</td><td>97531</td><td>&quot;HISTIOCITOSE D…</td><td>&quot;Y&quot;</td><td>&quot;Y&quot;</td><td>&quot;Y&quot;</td><td>&quot;Y&quot;</td><td>&quot;Y&quot;</td><td>null</td><td>null</td><td>null</td><td>8</td><td>8</td><td>8</td><td>8</td><td>8</td><td>8</td><td>null</td><td>null</td><td>null</td><td>null</td><td>null</td><td>&hellip;</td><td>0</td><td>0</td><td>0</td><td>0</td><td>&quot;2018-07-06&quot;</td><td>2</td><td>1</td><td>1.0</td><td>0.0</td><td>2014</td><td>null</td><td>null</td><td>null</td><td>&quot;00-09&quot;</td><td>8</td><td>null</td><td>null</td><td>99</td><td>1</td><td>0</td><td>&quot;2014-06-04&quot;</td><td>0</td><td>0</td><td>0</td><td>1</td><td>&quot;C34&quot;</td><td>null</td><td>null</td><td>null</td><td>3550308</td><td>97531</td><td>&quot;HISTIOCITOSE D…</td><td>7</td><td>&quot;CACON com Serv…</td><td>3</td><td>2</td><td>&quot;São Paulo&quot;</td></tr><tr><td>1</td><td>0</td><td>&quot;Feminino&quot;</td><td>&quot;SP&quot;</td><td>&quot;SP&quot;</td><td>3506607</td><td>&quot;BIRITIBAMIRIM&quot;</td><td>2</td><td>&quot;2019-08-16&quot;</td><td>25</td><td>1</td><td>&quot;2019-08-16&quot;</td><td>3</td><td>&quot;C770&quot;</td><td>&quot;C77&quot;</td><td>&quot;LINFONODOS DA …</td><td>88003</td><td>&quot;SARCOMA SOE&quot;</td><td>&quot;Y&quot;</td><td>&quot;Y&quot;</td><td>&quot;Y&quot;</td><td>&quot;Y&quot;</td><td>&quot;Y&quot;</td><td>null</td><td>null</td><td>null</td><td>8</td><td>8</td><td>8</td><td>8</td><td>8</td><td>8</td><td>null</td><td>null</td><td>null</td><td>null</td><td>null</td><td>&hellip;</td><td>0</td><td>0</td><td>0</td><td>0</td><td>&quot;2020-12-18&quot;</td><td>1</td><td>0</td><td>0.0</td><td>0.0</td><td>2019</td><td>null</td><td>null</td><td>null</td><td>&quot;00-09&quot;</td><td>8</td><td>null</td><td>&quot;DRS 01  SÃO PA…</td><td>2</td><td>0</td><td>0</td><td>null</td><td>1</td><td>0</td><td>0</td><td>0</td><td>null</td><td>null</td><td>null</td><td>null</td><td>3550308</td><td>88003</td><td>&quot;SARCOMA SOE&quot;</td><td>7</td><td>&quot;CACON com Serv…</td><td>3</td><td>2</td><td>&quot;São Paulo&quot;</td></tr><tr><td>1</td><td>0</td><td>&quot;Masculino&quot;</td><td>&quot;MG&quot;</td><td>&quot;MG&quot;</td><td>3106200</td><td>&quot;BELO HORIZONTE…</td><td>2</td><td>&quot;2020-01-31&quot;</td><td>34</td><td>1</td><td>&quot;2020-01-31&quot;</td><td>1</td><td>&quot;C740&quot;</td><td>&quot;C74&quot;</td><td>&quot;GLANDULA SUPRA…</td><td>90141</td><td>&quot;ADENOFIBROMA S…</td><td>&quot;Y&quot;</td><td>&quot;Y&quot;</td><td>&quot;Y&quot;</td><td>&quot;Y&quot;</td><td>&quot;Y&quot;</td><td>null</td><td>null</td><td>null</td><td>8</td><td>8</td><td>8</td><td>8</td><td>8</td><td>8</td><td>null</td><td>null</td><td>null</td><td>null</td><td>null</td><td>&hellip;</td><td>0</td><td>0</td><td>0</td><td>0</td><td>&quot;2020-02-07&quot;</td><td>1</td><td>0</td><td>0.0</td><td>0.0</td><td>2020</td><td>null</td><td>null</td><td>null</td><td>&quot;00-09&quot;</td><td>1</td><td>null</td><td>null</td><td>99</td><td>0</td><td>0</td><td>null</td><td>1</td><td>0</td><td>0</td><td>0</td><td>null</td><td>null</td><td>null</td><td>null</td><td>3550308</td><td>90141</td><td>&quot;ADENOFIBROMA S…</td><td>7</td><td>&quot;CACON com Serv…</td><td>3</td><td>2</td><td>&quot;São Paulo&quot;</td></tr><tr><td>1</td><td>0</td><td>&quot;Masculino&quot;</td><td>&quot;SP&quot;</td><td>&quot;SP&quot;</td><td>3550308</td><td>&quot;SAO PAULO&quot;</td><td>1</td><td>&quot;2021-04-19&quot;</td><td>25</td><td>1</td><td>&quot;2021-04-19&quot;</td><td>3</td><td>&quot;C740&quot;</td><td>&quot;C74&quot;</td><td>&quot;GLANDULA SUPRA…</td><td>80703</td><td>&quot;CARCINOMA DE C…</td><td>&quot;Y&quot;</td><td>&quot;Y&quot;</td><td>&quot;Y&quot;</td><td>&quot;Y&quot;</td><td>&quot;Y&quot;</td><td>null</td><td>null</td><td>null</td><td>8</td><td>8</td><td>8</td><td>8</td><td>8</td><td>8</td><td>null</td><td>null</td><td>null</td><td>null</td><td>null</td><td>&hellip;</td><td>0</td><td>0</td><td>0</td><td>0</td><td>&quot;2023-06-05&quot;</td><td>2</td><td>0</td><td>0.0</td><td>0.0</td><td>2021</td><td>null</td><td>null</td><td>null</td><td>&quot;00-09&quot;</td><td>2</td><td>null</td><td>&quot;DRS 01  SÃO PA…</td><td>6</td><td>0</td><td>0</td><td>null</td><td>1</td><td>0</td><td>0</td><td>0</td><td>null</td><td>null</td><td>null</td><td>null</td><td>3550308</td><td>80703</td><td>&quot;CARCINOMA ESCA…</td><td>7</td><td>&quot;CACON com Serv…</td><td>3</td><td>2</td><td>&quot;São Paulo&quot;</td></tr></tbody></table></div>"
      ],
      "text/plain": [
       "shape: (2_118, 100)\n",
       "┌──────────┬───────┬───────────┬────────┬───┬────────────────────┬──────────┬──────────┬───────────┐\n",
       "│ ESCOLARI ┆ IDADE ┆ SEXO      ┆ UFNASC ┆ … ┆ HABIT11            ┆ HABILIT1 ┆ HABILIT2 ┆ CIDADEH   │\n",
       "│ ---      ┆ ---   ┆ ---       ┆ ---    ┆   ┆ ---                ┆ ---      ┆ ---      ┆ ---       │\n",
       "│ i64      ┆ i64   ┆ str       ┆ str    ┆   ┆ str                ┆ i64      ┆ i64      ┆ str       │\n",
       "╞══════════╪═══════╪═══════════╪════════╪═══╪════════════════════╪══════════╪══════════╪═══════════╡\n",
       "│ 1        ┆ 0     ┆ Feminino  ┆ SP     ┆ … ┆ UNACON com Serviço ┆ 1        ┆ 1        ┆ null      │\n",
       "│          ┆       ┆           ┆        ┆   ┆ de Radioterap…     ┆          ┆          ┆           │\n",
       "│ 1        ┆ 0     ┆ Masculino ┆ SP     ┆ … ┆ CACON com Serviço  ┆ 3        ┆ 2        ┆ Barretos  │\n",
       "│          ┆       ┆           ┆        ┆   ┆ de Oncologia P…    ┆          ┆          ┆           │\n",
       "│ 9        ┆ 0     ┆ Masculino ┆ SP     ┆ … ┆ CACON com Serviço  ┆ 3        ┆ 2        ┆ Marilia   │\n",
       "│          ┆       ┆           ┆        ┆   ┆ de Oncologia P…    ┆          ┆          ┆           │\n",
       "│ 1        ┆ 0     ┆ Feminino  ┆ SP     ┆ … ┆ CACON com Serviço  ┆ 3        ┆ 2        ┆ Ribeirão  │\n",
       "│          ┆       ┆           ┆        ┆   ┆ de Oncologia P…    ┆          ┆          ┆ Preto     │\n",
       "│ 1        ┆ 0     ┆ Feminino  ┆ SP     ┆ … ┆ UNACON exclusiva   ┆ 2        ┆ 1        ┆ São Paulo │\n",
       "│          ┆       ┆           ┆        ┆   ┆ de Oncologia Pe…   ┆          ┆          ┆           │\n",
       "│ …        ┆ …     ┆ …         ┆ …      ┆ … ┆ …                  ┆ …        ┆ …        ┆ …         │\n",
       "│ 1        ┆ 0     ┆ Feminino  ┆ SP     ┆ … ┆ CACON com Serviço  ┆ 3        ┆ 2        ┆ São Paulo │\n",
       "│          ┆       ┆           ┆        ┆   ┆ de Oncologia P…    ┆          ┆          ┆           │\n",
       "│ 1        ┆ 0     ┆ Feminino  ┆ RO     ┆ … ┆ CACON com Serviço  ┆ 3        ┆ 2        ┆ São Paulo │\n",
       "│          ┆       ┆           ┆        ┆   ┆ de Oncologia P…    ┆          ┆          ┆           │\n",
       "│ 1        ┆ 0     ┆ Feminino  ┆ SP     ┆ … ┆ CACON com Serviço  ┆ 3        ┆ 2        ┆ São Paulo │\n",
       "│          ┆       ┆           ┆        ┆   ┆ de Oncologia P…    ┆          ┆          ┆           │\n",
       "│ 1        ┆ 0     ┆ Masculino ┆ MG     ┆ … ┆ CACON com Serviço  ┆ 3        ┆ 2        ┆ São Paulo │\n",
       "│          ┆       ┆           ┆        ┆   ┆ de Oncologia P…    ┆          ┆          ┆           │\n",
       "│ 1        ┆ 0     ┆ Masculino ┆ SP     ┆ … ┆ CACON com Serviço  ┆ 3        ┆ 2        ┆ São Paulo │\n",
       "│          ┆       ┆           ┆        ┆   ┆ de Oncologia P…    ┆          ┆          ┆           │\n",
       "└──────────┴───────┴───────────┴────────┴───┴────────────────────┴──────────┴──────────┴───────────┘"
      ]
     },
     "execution_count": 12,
     "metadata": {},
     "output_type": "execute_result"
    }
   ],
   "source": [
    "df.filter(ps.col(\"IDADE\").is_null() | (ps.col(\"IDADE\") <= 0))"
   ]
  },
  {
   "cell_type": "markdown",
   "id": "de62d318-5bbd-4108-9dc5-a9a9c404e43b",
   "metadata": {},
   "source": [
    "Com a analise acima, gera uma dúvida, essa coluna "
   ]
  }
 ],
 "metadata": {
  "kernelspec": {
   "display_name": "Python 3 (Spyder)",
   "language": "python3",
   "name": "python3"
  },
  "language_info": {
   "codemirror_mode": {
    "name": "ipython",
    "version": 3
   },
   "file_extension": ".py",
   "mimetype": "text/x-python",
   "name": "python",
   "nbconvert_exporter": "python",
   "pygments_lexer": "ipython3",
   "version": "3.11.9"
  }
 },
 "nbformat": 4,
 "nbformat_minor": 5
}
